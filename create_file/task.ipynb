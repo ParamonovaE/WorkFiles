{
 "cells": [
  {
   "cell_type": "code",
   "execution_count": 5,
   "metadata": {},
   "outputs": [],
   "source": [
    "with open(\"1.txt\", encoding=\"utf-8\") as f1:\n",
    "    ar1=f1.readlines()\n",
    "    l1=len(ar1)\n",
    "\n",
    "with open(\"2.txt\", encoding=\"utf-8\") as f2:\n",
    "    arr2=f2.readlines()\n",
    "    l2=len(arr2)\n",
    "    \n",
    "with open(\"3.txt\", encoding=\"utf-8\") as f3:\n",
    "    arr3=f3.readlines()\n",
    "    l3=len(arr3)\n",
    "\n",
    "result={}\n",
    "result['1.txt']=l1\n",
    "result['2.txt']=l2\n",
    "result['3.txt']=l3\n",
    "sorted_result = dict(sorted(result.items(), key=lambda item: item[1]))\n",
    "\n",
    "with open('result.txt','w', encoding='utf-8') as f:\n",
    "    for name, value in sorted_result.items():\n",
    "        s = open((name),encoding='utf-8').read()\n",
    "        value=str(value)\n",
    "        f.write(name)\n",
    "        f.write('\\n')\n",
    "        f.write(value)\n",
    "        f.write('\\n')\n",
    "        f.write(s)\n",
    "        f.write('\\n') "
   ]
  }
 ],
 "metadata": {
  "kernelspec": {
   "display_name": "Python 3",
   "language": "python",
   "name": "python3"
  },
  "language_info": {
   "codemirror_mode": {
    "name": "ipython",
    "version": 3
   },
   "file_extension": ".py",
   "mimetype": "text/x-python",
   "name": "python",
   "nbconvert_exporter": "python",
   "pygments_lexer": "ipython3",
   "version": "3.11.3"
  }
 },
 "nbformat": 4,
 "nbformat_minor": 2
}
